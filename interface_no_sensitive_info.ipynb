{
 "cells": [
  {
   "cell_type": "code",
   "execution_count": 36,
   "id": "6e7628d3",
   "metadata": {},
   "outputs": [],
   "source": [
    "import mysql.connector\n",
    "\n",
    "cnx = mysql.connector.connect(\n",
    "    host=\"*********\",\n",
    "    port=****,\n",
    "    database=\"audi_a_models\",\n",
    "    user=\"***\",\n",
    "    password=\"**********\")\n",
    "\n",
    "# Get a cursor\n",
    "cur = cnx.cursor(dictionary=True)"
   ]
  },
  {
   "cell_type": "code",
   "execution_count": 39,
   "id": "3e1c368c",
   "metadata": {},
   "outputs": [
    {
     "data": {
      "text/plain": [
       "[{'id_engine': 7,\n",
       "  'engine_name': '45 TFSI',\n",
       "  'engine_size_in_l': 2.0,\n",
       "  'max_power_in_hp': 265},\n",
       " {'id_engine': 8,\n",
       "  'engine_name': '55 TFSI',\n",
       "  'engine_size_in_l': 3.0,\n",
       "  'max_power_in_hp': 340},\n",
       " {'id_engine': 9,\n",
       "  'engine_name': '60 TFSI',\n",
       "  'engine_size_in_l': 4.0,\n",
       "  'max_power_in_hp': 460},\n",
       " {'id_engine': 10,\n",
       "  'engine_name': 'TFSI ',\n",
       "  'engine_size_in_l': 2.0,\n",
       "  'max_power_in_hp': 310},\n",
       " {'id_engine': 11,\n",
       "  'engine_name': 'TFSI',\n",
       "  'engine_size_in_l': 2.5,\n",
       "  'max_power_in_hp': 400},\n",
       " {'id_engine': 12,\n",
       "  'engine_name': 'TFSI',\n",
       "  'engine_size_in_l': 2.9,\n",
       "  'max_power_in_hp': 450},\n",
       " {'id_engine': 13,\n",
       "  'engine_name': 'TFSI',\n",
       "  'engine_size_in_l': 4.0,\n",
       "  'max_power_in_hp': 571},\n",
       " {'id_engine': 18,\n",
       "  'engine_name': '50 TDI',\n",
       "  'engine_size_in_l': 3.0,\n",
       "  'max_power_in_hp': 286},\n",
       " {'id_engine': 19,\n",
       "  'engine_name': 'TDI',\n",
       "  'engine_size_in_l': 2.9,\n",
       "  'max_power_in_hp': 341},\n",
       " {'id_engine': 20,\n",
       "  'engine_name': 'TDI',\n",
       "  'engine_size_in_l': 2.9,\n",
       "  'max_power_in_hp': 344},\n",
       " {'id_engine': 28,\n",
       "  'engine_name': 'TFFF',\n",
       "  'engine_size_in_l': 100.5,\n",
       "  'max_power_in_hp': 777}]"
      ]
     },
     "execution_count": 39,
     "metadata": {},
     "output_type": "execute_result"
    }
   ],
   "source": [
    "# Select data\n",
    "cur.execute(\"SELECT * FROM engine WHERE engine.max_power_in_hp > 250\")\n",
    "\n",
    "# Fetch result\n",
    "cur.fetchall()"
   ]
  },
  {
   "cell_type": "code",
   "execution_count": 38,
   "id": "0e50d298",
   "metadata": {},
   "outputs": [],
   "source": [
    "# Add data\n",
    "cur.execute(\"INSERT INTO engine(engine_name, engine_size_in_l, max_power_in_hp) VALUES ('TFFF', 100.500, 777)\")\n",
    "cnx.commit()"
   ]
  },
  {
   "cell_type": "code",
   "execution_count": 40,
   "id": "e48e7c3a",
   "metadata": {},
   "outputs": [],
   "source": [
    "# Replace data\n",
    "cur.execute(\"UPDATE audi_a_models.engine SET engine_name = 'TTLLQ', engine_size_in_l = 220.9 WHERE engine_name = 'TFFF'\")\n",
    "cnx.commit()"
   ]
  },
  {
   "cell_type": "code",
   "execution_count": 35,
   "id": "24a1b146",
   "metadata": {},
   "outputs": [],
   "source": [
    "# Delete data\n",
    "cur.execute(\"DELETE FROM audi_a_models.engine WHERE engine_name = 'TFFF'\")\n",
    "#cnx.commit()"
   ]
  },
  {
   "cell_type": "code",
   "execution_count": null,
   "id": "3719dad7",
   "metadata": {},
   "outputs": [],
   "source": [
    "# Create new table\n",
    "cur.execute(\"CREATE TABLE `audi_a_models`.`fuel` (`id_fuel` INT NOT NULL AUTO_INCREMENT,`fuel_name` VARCHAR(45) NOT NULL, PRIMARY KEY (`id_fuel`))\")"
   ]
  },
  {
   "cell_type": "code",
   "execution_count": null,
   "id": "27cc077b",
   "metadata": {},
   "outputs": [],
   "source": [
    "# Drop table\n",
    "cur.execute(\"DROP TABLE `fuel`\")"
   ]
  },
  {
   "cell_type": "code",
   "execution_count": null,
   "id": "30c3a365",
   "metadata": {},
   "outputs": [],
   "source": [
    "# Add column for connecting table\n",
    "cur.execute(\"ALTER TABLE `main_info` ADD `id_fuel` INT NULL AFTER `id_engine`, ADD INDEX `fuel_idx` (`id_fuel` ASC) VISIBLE\") "
   ]
  },
  {
   "cell_type": "code",
   "execution_count": 28,
   "id": "90b94d03",
   "metadata": {},
   "outputs": [],
   "source": [
    "# Add foreign key\n",
    "cur.execute(\"ALTER TABLE `main_info` \\\n",
    "            ADD CONSTRAINT `fuel` \\\n",
    "            FOREIGN KEY (`id_fuel`) \\\n",
    "            REFERENCES `audi_a_models`.`fuel` (`id_fuel`) \\\n",
    "            ON DELETE NO ACTION \\\n",
    "            ON UPDATE NO ACTION\")"
   ]
  },
  {
   "cell_type": "code",
   "execution_count": 35,
   "id": "368a9ce5",
   "metadata": {},
   "outputs": [],
   "source": [
    "# Close connection\n",
    "cnx.close()"
   ]
  }
 ],
 "metadata": {
  "kernelspec": {
   "display_name": "Python 3",
   "language": "python",
   "name": "python3"
  },
  "language_info": {
   "codemirror_mode": {
    "name": "ipython",
    "version": 3
   },
   "file_extension": ".py",
   "mimetype": "text/x-python",
   "name": "python",
   "nbconvert_exporter": "python",
   "pygments_lexer": "ipython3",
   "version": "3.8.8"
  }
 },
 "nbformat": 4,
 "nbformat_minor": 5
}
